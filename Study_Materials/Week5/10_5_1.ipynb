{
 "cells": [
  {
   "cell_type": "markdown",
   "id": "2c7c0ec2",
   "metadata": {},
   "source": [
    "# 202001549 장희권"
   ]
  },
  {
   "cell_type": "code",
   "execution_count": 1,
   "id": "8a928077",
   "metadata": {},
   "outputs": [],
   "source": [
    "import numpy as np"
   ]
  },
  {
   "cell_type": "code",
   "execution_count": 2,
   "id": "5f8ddb6c",
   "metadata": {},
   "outputs": [],
   "source": [
    "names = np.array(['Bob','Joe','Will','Bob','Will','Joe','Joe'])"
   ]
  },
  {
   "cell_type": "code",
   "execution_count": 3,
   "id": "d66b8385",
   "metadata": {},
   "outputs": [],
   "source": [
    "data = np.random.randn(7,4)"
   ]
  },
  {
   "cell_type": "code",
   "execution_count": 4,
   "id": "cc244769",
   "metadata": {},
   "outputs": [
    {
     "data": {
      "text/plain": [
       "array(['Bob', 'Joe', 'Will', 'Bob', 'Will', 'Joe', 'Joe'], dtype='<U4')"
      ]
     },
     "execution_count": 4,
     "metadata": {},
     "output_type": "execute_result"
    }
   ],
   "source": [
    "names"
   ]
  },
  {
   "cell_type": "code",
   "execution_count": 5,
   "id": "78a7a997",
   "metadata": {},
   "outputs": [
    {
     "data": {
      "text/plain": [
       "array([[ 1.00560026, -0.47829241, -0.22644995,  1.07928207],\n",
       "       [ 0.51482446,  0.40995069, -1.02280624,  0.58432161],\n",
       "       [-0.13179169, -0.40548004, -1.35788521, -0.66878498],\n",
       "       [ 0.69542721,  0.27091901,  0.08191263,  0.23995476],\n",
       "       [-0.07494953, -0.61359636,  0.72400603, -0.32320976],\n",
       "       [ 0.72694575,  0.12955428,  2.16234321,  0.86852469],\n",
       "       [ 0.31668111, -1.92208836, -0.55490626, -0.03580148]])"
      ]
     },
     "execution_count": 5,
     "metadata": {},
     "output_type": "execute_result"
    }
   ],
   "source": [
    "data"
   ]
  },
  {
   "cell_type": "code",
   "execution_count": 6,
   "id": "76d02f5f",
   "metadata": {},
   "outputs": [],
   "source": [
    "names='Bob'"
   ]
  },
  {
   "cell_type": "code",
   "execution_count": 7,
   "id": "43edf11e",
   "metadata": {},
   "outputs": [
    {
     "data": {
      "text/plain": [
       "array([[[ 1.00560026, -0.47829241, -0.22644995,  1.07928207],\n",
       "        [ 0.51482446,  0.40995069, -1.02280624,  0.58432161],\n",
       "        [-0.13179169, -0.40548004, -1.35788521, -0.66878498],\n",
       "        [ 0.69542721,  0.27091901,  0.08191263,  0.23995476],\n",
       "        [-0.07494953, -0.61359636,  0.72400603, -0.32320976],\n",
       "        [ 0.72694575,  0.12955428,  2.16234321,  0.86852469],\n",
       "        [ 0.31668111, -1.92208836, -0.55490626, -0.03580148]]])"
      ]
     },
     "execution_count": 7,
     "metadata": {},
     "output_type": "execute_result"
    }
   ],
   "source": [
    "data[names=='Bob']"
   ]
  },
  {
   "cell_type": "code",
   "execution_count": 8,
   "id": "878c4fc0",
   "metadata": {},
   "outputs": [
    {
     "data": {
      "text/plain": [
       "array([[[-0.13179169, -0.40548004, -1.35788521, -0.66878498],\n",
       "        [ 0.69542721,  0.27091901,  0.08191263,  0.23995476],\n",
       "        [-0.07494953, -0.61359636,  0.72400603, -0.32320976],\n",
       "        [ 0.72694575,  0.12955428,  2.16234321,  0.86852469],\n",
       "        [ 0.31668111, -1.92208836, -0.55490626, -0.03580148]]])"
      ]
     },
     "execution_count": 8,
     "metadata": {},
     "output_type": "execute_result"
    }
   ],
   "source": [
    "data[names=='Bob',2:]"
   ]
  },
  {
   "cell_type": "code",
   "execution_count": 9,
   "id": "11eb7afb",
   "metadata": {},
   "outputs": [
    {
     "data": {
      "text/plain": [
       "array([[0.69542721, 0.27091901, 0.08191263, 0.23995476]])"
      ]
     },
     "execution_count": 9,
     "metadata": {},
     "output_type": "execute_result"
    }
   ],
   "source": [
    "data[names=='Bob',3]"
   ]
  },
  {
   "cell_type": "markdown",
   "id": "c0781b3d",
   "metadata": {},
   "source": [
    "# 202001549 장희권"
   ]
  }
 ],
 "metadata": {
  "kernelspec": {
   "display_name": "Python 3",
   "language": "python",
   "name": "python3"
  },
  "language_info": {
   "codemirror_mode": {
    "name": "ipython",
    "version": 3
   },
   "file_extension": ".py",
   "mimetype": "text/x-python",
   "name": "python",
   "nbconvert_exporter": "python",
   "pygments_lexer": "ipython3",
   "version": "3.8.5"
  }
 },
 "nbformat": 4,
 "nbformat_minor": 5
}
