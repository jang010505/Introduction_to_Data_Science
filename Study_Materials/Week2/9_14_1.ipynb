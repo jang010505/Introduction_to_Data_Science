{
 "cells": [
  {
   "cell_type": "markdown",
   "id": "97d68df2",
   "metadata": {},
   "source": [
    "# 202001549 장희권"
   ]
  },
  {
   "cell_type": "code",
   "execution_count": 1,
   "id": "4d992997",
   "metadata": {},
   "outputs": [],
   "source": [
    "tup = tuple(range(4))"
   ]
  },
  {
   "cell_type": "code",
   "execution_count": 2,
   "id": "32b31ad5",
   "metadata": {},
   "outputs": [
    {
     "data": {
      "text/plain": [
       "(0, 1, 2, 3)"
      ]
     },
     "execution_count": 2,
     "metadata": {},
     "output_type": "execute_result"
    }
   ],
   "source": [
    "tup"
   ]
  },
  {
   "cell_type": "code",
   "execution_count": 3,
   "id": "9873b718",
   "metadata": {},
   "outputs": [
    {
     "data": {
      "text/plain": [
       "2390121985504"
      ]
     },
     "execution_count": 3,
     "metadata": {},
     "output_type": "execute_result"
    }
   ],
   "source": [
    "id(tup)"
   ]
  },
  {
   "cell_type": "code",
   "execution_count": 4,
   "id": "3eab4c93",
   "metadata": {},
   "outputs": [],
   "source": [
    "tup += (4, 5)"
   ]
  },
  {
   "cell_type": "code",
   "execution_count": 5,
   "id": "2a64027b",
   "metadata": {},
   "outputs": [
    {
     "data": {
      "text/plain": [
       "(0, 1, 2, 3, 4, 5)"
      ]
     },
     "execution_count": 5,
     "metadata": {},
     "output_type": "execute_result"
    }
   ],
   "source": [
    "tup"
   ]
  },
  {
   "cell_type": "code",
   "execution_count": 6,
   "id": "9ad6a534",
   "metadata": {},
   "outputs": [
    {
     "data": {
      "text/plain": [
       "2390121886816"
      ]
     },
     "execution_count": 6,
     "metadata": {},
     "output_type": "execute_result"
    }
   ],
   "source": [
    "id(tup)"
   ]
  },
  {
   "cell_type": "code",
   "execution_count": 8,
   "id": "7b9f0016",
   "metadata": {},
   "outputs": [],
   "source": [
    "tup = (tuple([list(range(4))]))"
   ]
  },
  {
   "cell_type": "code",
   "execution_count": 9,
   "id": "ef7712ca",
   "metadata": {},
   "outputs": [
    {
     "data": {
      "text/plain": [
       "([0, 1, 2, 3],)"
      ]
     },
     "execution_count": 9,
     "metadata": {},
     "output_type": "execute_result"
    }
   ],
   "source": [
    "tup"
   ]
  },
  {
   "cell_type": "code",
   "execution_count": 14,
   "id": "d2bf9c8e",
   "metadata": {},
   "outputs": [
    {
     "data": {
      "text/plain": [
       "2390122192128"
      ]
     },
     "execution_count": 14,
     "metadata": {},
     "output_type": "execute_result"
    }
   ],
   "source": [
    "id(tup)"
   ]
  },
  {
   "cell_type": "code",
   "execution_count": 15,
   "id": "765b2942",
   "metadata": {},
   "outputs": [],
   "source": [
    "tup[0].append(4)"
   ]
  },
  {
   "cell_type": "code",
   "execution_count": 16,
   "id": "525e0f3c",
   "metadata": {},
   "outputs": [],
   "source": [
    "tup[0].append(5)"
   ]
  },
  {
   "cell_type": "code",
   "execution_count": 17,
   "id": "4e0e17bf",
   "metadata": {},
   "outputs": [
    {
     "data": {
      "text/plain": [
       "([0, 1, 2, 3, 4, 5, 4, 5],)"
      ]
     },
     "execution_count": 17,
     "metadata": {},
     "output_type": "execute_result"
    }
   ],
   "source": [
    "tup"
   ]
  },
  {
   "cell_type": "code",
   "execution_count": 18,
   "id": "e320b05e",
   "metadata": {},
   "outputs": [
    {
     "data": {
      "text/plain": [
       "2390122192128"
      ]
     },
     "execution_count": 18,
     "metadata": {},
     "output_type": "execute_result"
    }
   ],
   "source": [
    "id(tup)"
   ]
  },
  {
   "cell_type": "markdown",
   "id": "e98d1014",
   "metadata": {},
   "source": [
    "   # 202001549 장희권"
   ]
  }
 ],
 "metadata": {
  "kernelspec": {
   "display_name": "Python 3",
   "language": "python",
   "name": "python3"
  },
  "language_info": {
   "codemirror_mode": {
    "name": "ipython",
    "version": 3
   },
   "file_extension": ".py",
   "mimetype": "text/x-python",
   "name": "python",
   "nbconvert_exporter": "python",
   "pygments_lexer": "ipython3",
   "version": "3.8.5"
  }
 },
 "nbformat": 4,
 "nbformat_minor": 5
}
