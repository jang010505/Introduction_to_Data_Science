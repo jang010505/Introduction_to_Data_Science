{
 "cells": [
  {
   "cell_type": "markdown",
   "id": "e5e6b6fb",
   "metadata": {},
   "source": [
    "# 202001549 장희권"
   ]
  },
  {
   "cell_type": "code",
   "execution_count": 3,
   "id": "c666a651",
   "metadata": {},
   "outputs": [],
   "source": [
    "template = \"{0:.2f}{1:s} are worth US${value}\""
   ]
  },
  {
   "cell_type": "code",
   "execution_count": 5,
   "id": "d7e1324e",
   "metadata": {},
   "outputs": [
    {
     "data": {
      "text/plain": [
       "'1160.57Korean Won are worth US$1'"
      ]
     },
     "execution_count": 5,
     "metadata": {},
     "output_type": "execute_result"
    }
   ],
   "source": [
    "template.format(1160.567, \"Korean Won\", value=1)"
   ]
  },
  {
   "cell_type": "markdown",
   "id": "e5aeaa21",
   "metadata": {},
   "source": [
    "# 202001549"
   ]
  }
 ],
 "metadata": {
  "kernelspec": {
   "display_name": "Python 3 (ipykernel)",
   "language": "python",
   "name": "python3"
  },
  "language_info": {
   "codemirror_mode": {
    "name": "ipython",
    "version": 3
   },
   "file_extension": ".py",
   "mimetype": "text/x-python",
   "name": "python",
   "nbconvert_exporter": "python",
   "pygments_lexer": "ipython3",
   "version": "3.9.12"
  }
 },
 "nbformat": 4,
 "nbformat_minor": 5
}
