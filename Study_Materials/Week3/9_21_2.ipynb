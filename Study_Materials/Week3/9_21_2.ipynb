{
 "cells": [
  {
   "cell_type": "markdown",
   "id": "9158a0ae",
   "metadata": {},
   "source": [
    "# 202001549 장희권"
   ]
  },
  {
   "cell_type": "code",
   "execution_count": 16,
   "id": "7a93a807",
   "metadata": {},
   "outputs": [],
   "source": [
    "all_data = [['Jhon', 'Emily', 'Steven'],\n",
    "            ['Maria', 'Juan', 'Javier']]"
   ]
  },
  {
   "cell_type": "code",
   "execution_count": 6,
   "id": "3bd99727",
   "metadata": {},
   "outputs": [],
   "source": [
    "result = [name for names in all_data for name in names if name.count('e') >= 2]"
   ]
  },
  {
   "cell_type": "code",
   "execution_count": 7,
   "id": "2fbe98d5",
   "metadata": {},
   "outputs": [
    {
     "data": {
      "text/plain": [
       "['Steven']"
      ]
     },
     "execution_count": 7,
     "metadata": {},
     "output_type": "execute_result"
    }
   ],
   "source": [
    "result"
   ]
  },
  {
   "cell_type": "code",
   "execution_count": 8,
   "id": "5fe18667",
   "metadata": {},
   "outputs": [],
   "source": [
    "some_tuple = [(1, 2, 3), (4, 5, 6), (7, 8, 9)]"
   ]
  },
  {
   "cell_type": "code",
   "execution_count": 10,
   "id": "f81e5f48",
   "metadata": {},
   "outputs": [],
   "source": [
    "flattened = [x for tup in some_tuple for x in tup]"
   ]
  },
  {
   "cell_type": "code",
   "execution_count": 11,
   "id": "681e0385",
   "metadata": {},
   "outputs": [
    {
     "data": {
      "text/plain": [
       "[1, 2, 3, 4, 5, 6, 7, 8, 9]"
      ]
     },
     "execution_count": 11,
     "metadata": {},
     "output_type": "execute_result"
    }
   ],
   "source": [
    "flattened"
   ]
  },
  {
   "cell_type": "code",
   "execution_count": 12,
   "id": "d19eef59",
   "metadata": {},
   "outputs": [
    {
     "data": {
      "text/plain": [
       "[[1, 2, 3], [4, 5, 6], [7, 8, 9]]"
      ]
     },
     "execution_count": 12,
     "metadata": {},
     "output_type": "execute_result"
    }
   ],
   "source": [
    "[[x for x in tup] for tup in some_tuple]"
   ]
  },
  {
   "cell_type": "markdown",
   "id": "6d24f670",
   "metadata": {},
   "source": [
    "# 202001549 장희권"
   ]
  }
 ],
 "metadata": {
  "kernelspec": {
   "display_name": "Python 3",
   "language": "python",
   "name": "python3"
  },
  "language_info": {
   "codemirror_mode": {
    "name": "ipython",
    "version": 3
   },
   "file_extension": ".py",
   "mimetype": "text/x-python",
   "name": "python",
   "nbconvert_exporter": "python",
   "pygments_lexer": "ipython3",
   "version": "3.8.5"
  }
 },
 "nbformat": 4,
 "nbformat_minor": 5
}
