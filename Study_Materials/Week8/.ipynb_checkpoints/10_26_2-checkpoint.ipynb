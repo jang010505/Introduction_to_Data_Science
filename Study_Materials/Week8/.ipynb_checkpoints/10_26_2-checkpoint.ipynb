{
 "cells": [
  {
   "cell_type": "markdown",
   "id": "783f30ca",
   "metadata": {},
   "source": [
    "# 202001549 장희권"
   ]
  },
  {
   "cell_type": "code",
   "execution_count": 2,
   "id": "79b8b865",
   "metadata": {},
   "outputs": [],
   "source": [
    "import numpy as np"
   ]
  },
  {
   "cell_type": "code",
   "execution_count": 3,
   "id": "1f7110cb",
   "metadata": {},
   "outputs": [],
   "source": [
    "arr = np.random.randn(4, 4)"
   ]
  },
  {
   "cell_type": "code",
   "execution_count": 4,
   "id": "3958e169",
   "metadata": {},
   "outputs": [
    {
     "data": {
      "text/plain": [
       "array([[ 0.35121357,  0.82325467,  0.47328674, -0.35985512],\n",
       "       [ 1.04514629, -1.90372666, -1.10871606, -0.00557721],\n",
       "       [-0.84342341,  0.13608683,  1.40483945,  1.38949899],\n",
       "       [ 0.03140916,  1.86391477,  1.89788737,  0.18492436]])"
      ]
     },
     "execution_count": 4,
     "metadata": {},
     "output_type": "execute_result"
    }
   ],
   "source": [
    "arr"
   ]
  },
  {
   "cell_type": "code",
   "execution_count": 5,
   "id": "fc79cfab",
   "metadata": {},
   "outputs": [],
   "source": [
    "row_means = arr.mean(1)"
   ]
  },
  {
   "cell_type": "code",
   "execution_count": 6,
   "id": "b08e7aa4",
   "metadata": {},
   "outputs": [
    {
     "data": {
      "text/plain": [
       "(4,)"
      ]
     },
     "execution_count": 6,
     "metadata": {},
     "output_type": "execute_result"
    }
   ],
   "source": [
    "row_means.shape"
   ]
  },
  {
   "cell_type": "code",
   "execution_count": 7,
   "id": "f7c6553e",
   "metadata": {},
   "outputs": [
    {
     "data": {
      "text/plain": [
       "array([[ 0.32197496],\n",
       "       [-0.49321841],\n",
       "       [ 0.52175047],\n",
       "       [ 0.99453391]])"
      ]
     },
     "execution_count": 7,
     "metadata": {},
     "output_type": "execute_result"
    }
   ],
   "source": [
    "row_means.reshape((4, 1))"
   ]
  },
  {
   "cell_type": "code",
   "execution_count": 8,
   "id": "3c58db45",
   "metadata": {},
   "outputs": [],
   "source": [
    "dewaned = arr - row_means.reshape((4, 1))"
   ]
  },
  {
   "cell_type": "code",
   "execution_count": 9,
   "id": "e2785f9a",
   "metadata": {},
   "outputs": [
    {
     "data": {
      "text/plain": [
       "array([ 0.00000000e+00, -2.77555756e-17,  0.00000000e+00,  0.00000000e+00])"
      ]
     },
     "execution_count": 9,
     "metadata": {},
     "output_type": "execute_result"
    }
   ],
   "source": [
    "dewaned.mean(1)"
   ]
  },
  {
   "cell_type": "markdown",
   "id": "300d7fde",
   "metadata": {},
   "source": [
    "# 202001549 장희권"
   ]
  }
 ],
 "metadata": {
  "kernelspec": {
   "display_name": "Python 3",
   "language": "python",
   "name": "python3"
  }
 },
 "nbformat": 4,
 "nbformat_minor": 5
}
