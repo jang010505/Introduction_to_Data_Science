{
 "cells": [
  {
   "cell_type": "markdown",
   "id": "b6a9d080",
   "metadata": {},
   "source": [
    "# 202001549 장희권"
   ]
  },
  {
   "cell_type": "code",
   "execution_count": 10,
   "id": "459c75aa",
   "metadata": {},
   "outputs": [],
   "source": [
    "import numpy as np"
   ]
  },
  {
   "cell_type": "code",
   "execution_count": 11,
   "id": "c85ddc62",
   "metadata": {},
   "outputs": [],
   "source": [
    "arr = np.zeros((4, 4))"
   ]
  },
  {
   "cell_type": "code",
   "execution_count": 12,
   "id": "1fcb214f",
   "metadata": {},
   "outputs": [],
   "source": [
    "arr_3d = arr[:, np.newaxis, :]"
   ]
  },
  {
   "cell_type": "code",
   "execution_count": 13,
   "id": "efd1de1f",
   "metadata": {},
   "outputs": [
    {
     "data": {
      "text/plain": [
       "(4, 1, 4)"
      ]
     },
     "execution_count": 13,
     "metadata": {},
     "output_type": "execute_result"
    }
   ],
   "source": [
    "arr_3d.shape"
   ]
  },
  {
   "cell_type": "code",
   "execution_count": 14,
   "id": "21d4d6fe",
   "metadata": {},
   "outputs": [],
   "source": [
    "arr_1d = np.random.normal(size=3)"
   ]
  },
  {
   "cell_type": "code",
   "execution_count": 15,
   "id": "6f324333",
   "metadata": {},
   "outputs": [
    {
     "data": {
      "text/plain": [
       "array([[ 0.0591146 ],\n",
       "       [-1.23364018],\n",
       "       [ 0.73761316]])"
      ]
     },
     "execution_count": 15,
     "metadata": {},
     "output_type": "execute_result"
    }
   ],
   "source": [
    "arr_1d[:, np.newaxis]"
   ]
  },
  {
   "cell_type": "code",
   "execution_count": 16,
   "id": "75d61a18",
   "metadata": {},
   "outputs": [
    {
     "data": {
      "text/plain": [
       "array([[ 0.0591146 , -1.23364018,  0.73761316]])"
      ]
     },
     "execution_count": 16,
     "metadata": {},
     "output_type": "execute_result"
    }
   ],
   "source": [
    "arr_1d[np.newaxis, :]"
   ]
  },
  {
   "cell_type": "code",
   "execution_count": 26,
   "id": "09bdcbe5",
   "metadata": {},
   "outputs": [],
   "source": [
    "arr = np.random.randn(3, 4, 5)"
   ]
  },
  {
   "cell_type": "code",
   "execution_count": 27,
   "id": "02dc95fc",
   "metadata": {},
   "outputs": [],
   "source": [
    "depth_means = arr.mean(2)"
   ]
  },
  {
   "cell_type": "code",
   "execution_count": 28,
   "id": "bcfea456",
   "metadata": {},
   "outputs": [
    {
     "data": {
      "text/plain": [
       "array([[ 0.36714376, -0.19299852, -0.59109261,  0.38478365],\n",
       "       [ 0.89256115, -0.46728999, -0.52879117, -0.36946798],\n",
       "       [-0.24658652,  0.70280005,  0.57376486,  0.16460737]])"
      ]
     },
     "execution_count": 28,
     "metadata": {},
     "output_type": "execute_result"
    }
   ],
   "source": [
    "depth_means"
   ]
  },
  {
   "cell_type": "code",
   "execution_count": 29,
   "id": "c2c34ddc",
   "metadata": {},
   "outputs": [
    {
     "data": {
      "text/plain": [
       "(3, 4)"
      ]
     },
     "execution_count": 29,
     "metadata": {},
     "output_type": "execute_result"
    }
   ],
   "source": [
    "depth_means.shape"
   ]
  },
  {
   "cell_type": "code",
   "execution_count": 30,
   "id": "585397a5",
   "metadata": {},
   "outputs": [],
   "source": [
    "demeanded = arr - depth_means[:,:,np.newaxis]"
   ]
  },
  {
   "cell_type": "code",
   "execution_count": 31,
   "id": "ff250a47",
   "metadata": {},
   "outputs": [
    {
     "data": {
      "text/plain": [
       "array([[[-1.17043139,  1.37401724, -0.14515767,  0.40066025,\n",
       "         -0.45908843],\n",
       "        [ 0.22469052,  0.85120497, -0.98836582, -0.61559203,\n",
       "          0.52806236],\n",
       "        [-0.28818145,  0.04602846, -0.92257848,  0.50551465,\n",
       "          0.65921683],\n",
       "        [-0.76298896, -0.07011666,  0.48969609,  0.2364906 ,\n",
       "          0.10691893]],\n",
       "\n",
       "       [[-1.00036979, -0.19127022,  2.39369979, -2.92571485,\n",
       "          1.72365507],\n",
       "        [-0.41603719, -0.21227401, -0.59213238,  1.4699269 ,\n",
       "         -0.24948332],\n",
       "        [-0.09035997, -0.95455989,  0.41758164,  0.13579389,\n",
       "          0.49154433],\n",
       "        [ 0.73332331, -0.5739508 , -0.66305913, -0.66106638,\n",
       "          1.164753  ]],\n",
       "\n",
       "       [[ 2.43972563,  0.40155701, -1.95119177, -0.42346004,\n",
       "         -0.46663083],\n",
       "        [ 0.38852045, -1.40847455, -0.10753483,  0.17816869,\n",
       "          0.94932023],\n",
       "        [ 0.13511896,  0.84034308, -0.81458171, -0.99468628,\n",
       "          0.83380595],\n",
       "        [ 1.09823502,  0.30893008,  0.30937428, -0.85037539,\n",
       "         -0.866164  ]]])"
      ]
     },
     "execution_count": 31,
     "metadata": {},
     "output_type": "execute_result"
    }
   ],
   "source": [
    "demeanded"
   ]
  },
  {
   "cell_type": "markdown",
   "id": "fcf96e75",
   "metadata": {},
   "source": [
    "# 202001549 장희권"
   ]
  }
 ],
 "metadata": {
  "kernelspec": {
   "display_name": "Python 3",
   "language": "python",
   "name": "python3"
  },
  "language_info": {
   "codemirror_mode": {
    "name": "ipython",
    "version": 3
   },
   "file_extension": ".py",
   "mimetype": "text/x-python",
   "name": "python",
   "nbconvert_exporter": "python",
   "pygments_lexer": "ipython3",
   "version": "3.8.5"
  }
 },
 "nbformat": 4,
 "nbformat_minor": 5
}
